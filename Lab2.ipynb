{
 "cells": [
  {
   "cell_type": "code",
   "execution_count": 7,
   "id": "57239b86-0707-4a27-8273-bf0f159bcc1a",
   "metadata": {},
   "outputs": [],
   "source": [
    "from collections import deque"
   ]
  },
  {
   "cell_type": "code",
   "execution_count": 8,
   "id": "a90b1697-02ba-479c-941a-d633e639774c",
   "metadata": {},
   "outputs": [],
   "source": [
    "def bfs(maze, start, end):\n",
    "    rows, cols = len(maze), len(maze[0])\n",
    "    queue = deque([(*start, [])])\n",
    "    visited = set()\n",
    "    nodes_explored = 0\n",
    "\n",
    "    while queue:\n",
    "        x, y, path = queue.popleft()\n",
    "        nodes_explored += 1\n",
    "\n",
    "        if (x, y) == end:\n",
    "            return path + [(x, y)], nodes_explored\n",
    "\n",
    "        for dx, dy in [(-1, 0), (1, 0), (0, -1), (0, 1)]:\n",
    "            nx, ny = x + dx, y + dy\n",
    "            if 0 <= nx < rows and 0 <= ny < cols and maze[nx][ny] == 1 and (nx, ny) not in visited:\n",
    "                visited.add((nx, ny))\n",
    "                queue.append((nx, ny, path + [(x, y)]))\n",
    "    \n",
    "    return None, nodes_explored\n"
   ]
  },
  {
   "cell_type": "code",
   "execution_count": 9,
   "id": "9e60404c-ae1d-4093-a04b-9660f47697a8",
   "metadata": {},
   "outputs": [],
   "source": [
    "def dfs(maze, start, end):\n",
    "    rows, cols = len(maze), len(maze[0])\n",
    "    stack = [(start[0], start[1], [])]\n",
    "    visited = set()\n",
    "    nodes_explored = 0\n",
    "\n",
    "    while stack:\n",
    "        x, y, path = stack.pop()\n",
    "        nodes_explored += 1\n",
    "\n",
    "        if (x, y) == end:\n",
    "            return path + [(x, y)], nodes_explored\n",
    "\n",
    "        if (x, y) not in visited:\n",
    "            visited.add((x, y))\n",
    "            for dx, dy in [(-1, 0), (1, 0), (0, -1), (0, 1)]:\n",
    "                nx, ny = x + dx, y + dy\n",
    "                if 0 <= nx < rows and 0 <= ny < cols and maze[nx][ny] == 1:\n",
    "                    stack.append((nx, ny, path + [(x, y)]))\n",
    "    \n",
    "    return None, nodes_explored"
   ]
  },
  {
   "cell_type": "code",
   "execution_count": 10,
   "id": "4857eb2a-c12f-4788-bc87-5fe307859f83",
   "metadata": {},
   "outputs": [],
   "source": [
    "maze = [\n",
    "    [1, 1, 0, 0, 0, 0],\n",
    "    [0, 1, 1, 1, 0, 0],\n",
    "    [0, 0, 0, 1, 0, 0],\n",
    "    [1, 1, 0, 1, 1, 1],\n",
    "    [0, 1, 1, 0, 0, 1],\n",
    "    [1, 1, 1, 1, 1, 1]\n",
    "]\n",
    "\n",
    "start = (0, 0)\n",
    "end = (5,5)"
   ]
  },
  {
   "cell_type": "code",
   "execution_count": 11,
   "id": "d709a041-d197-4689-b3c0-38210224f464",
   "metadata": {},
   "outputs": [
    {
     "name": "stdout",
     "output_type": "stream",
     "text": [
      "BFS Path: [(0, 0), (0, 1), (1, 1), (1, 2), (1, 3), (2, 3), (3, 3), (3, 4), (3, 5), (4, 5), (5, 5)]\n",
      "Nodes Explored by BFS: 12\n",
      "DFS Path: [(0, 0), (0, 1), (1, 1), (1, 2), (1, 3), (2, 3), (3, 3), (3, 4), (3, 5), (4, 5), (5, 5)]\n",
      "Nodes Explored by DFS: 14\n",
      "\n",
      "Comparison:\n",
      "BFS Nodes Explored: 12, DFS Nodes Explored: 14\n"
     ]
    }
   ],
   "source": [
    "# BFS\n",
    "bfs_path, bfs_nodes = bfs(maze, start, end)\n",
    "print(\"BFS Path:\", bfs_path)\n",
    "print(\"Nodes Explored by BFS:\", bfs_nodes)\n",
    "\n",
    "# DFS\n",
    "dfs_path, dfs_nodes = dfs(maze, start, end)\n",
    "print(\"DFS Path:\", dfs_path)\n",
    "print(\"Nodes Explored by DFS:\", dfs_nodes)\n",
    "\n",
    "# Comparison\n",
    "print(\"\\nComparison:\")\n",
    "print(f\"BFS Nodes Explored: {bfs_nodes}, DFS Nodes Explored: {dfs_nodes}\")"
   ]
  },
  {
   "cell_type": "code",
   "execution_count": null,
   "id": "d0acaee2-cd5f-48c2-a10b-a3cf03815726",
   "metadata": {},
   "outputs": [],
   "source": []
  },
  {
   "cell_type": "code",
   "execution_count": null,
   "id": "17219a49-a133-4f80-962c-c101d3a9446d",
   "metadata": {},
   "outputs": [],
   "source": []
  }
 ],
 "metadata": {
  "kernelspec": {
   "display_name": "Python 3 (ipykernel)",
   "language": "python",
   "name": "python3"
  },
  "language_info": {
   "codemirror_mode": {
    "name": "ipython",
    "version": 3
   },
   "file_extension": ".py",
   "mimetype": "text/x-python",
   "name": "python",
   "nbconvert_exporter": "python",
   "pygments_lexer": "ipython3",
   "version": "3.12.6"
  }
 },
 "nbformat": 4,
 "nbformat_minor": 5
}
