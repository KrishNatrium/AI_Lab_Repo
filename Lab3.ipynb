{
 "cells": [
  {
   "cell_type": "code",
   "execution_count": 1,
   "id": "2e1b3cf1",
   "metadata": {},
   "outputs": [
    {
     "name": "stdout",
     "output_type": "stream",
     "text": [
      "The path is:\n",
      "(0, 0) -> (89, 0)\n",
      "(89, 0) -> (66, 23)\n",
      "(66, 23) -> (66, 0)\n",
      "(66, 0) -> (43, 23)\n",
      "(43, 23) -> (43, 0)\n",
      "(43, 0) -> (20, 23)\n",
      "(20, 23) -> (20, 0)\n",
      "(20, 0) -> (0, 20)\n",
      "(0, 20) -> (89, 20)\n",
      "(89, 20) -> (86, 23)\n",
      "(86, 23) -> (86, 0)\n",
      "(86, 0) -> (63, 23)\n",
      "(63, 23) -> (63, 0)\n",
      "(63, 0) -> (40, 23)\n",
      "(40, 23) -> (40, 0)\n",
      "(40, 0) -> (17, 23)\n",
      "(17, 23) -> (17, 0)\n",
      "(17, 0) -> (0, 17)\n",
      "(0, 17) -> (89, 17)\n",
      "(89, 17) -> (83, 23)\n",
      "(83, 23) -> (83, 0)\n",
      "(83, 0) -> (60, 23)\n",
      "(60, 23) -> (60, 0)\n",
      "(60, 0) -> (37, 23)\n",
      "(37, 23) -> (37, 0)\n",
      "(37, 0) -> (14, 23)\n"
     ]
    }
   ],
   "source": [
    "from collections import deque\n",
    "\n",
    "def water_jug_bfs(A, B, c):\n",
    "    queue = deque([(0, 0)])\n",
    "    visited = set([(0, 0)])\n",
    "    path = {}\n",
    "\n",
    "    actions = [\n",
    "        lambda x, y: (A, y),  # fill A\n",
    "        lambda x, y: (x, B),  # fill B\n",
    "        lambda x, y: (0, y),  # empty A\n",
    "        lambda x, y: (x, 0),  # empty B\n",
    "        lambda x, y: (x - min(x, B - y), y + min(x, B - y)),  # pour A to B\n",
    "        lambda x, y: (x + min(y, A - x), y - min(y, A - x))   # pour B to A\n",
    "    ]\n",
    "\n",
    "    while queue:\n",
    "        current = queue.popleft()\n",
    "\n",
    "        if current[0] == c or current[1] == c:\n",
    "            return construct(current, path)\n",
    "\n",
    "        for action in actions:\n",
    "            next = action(*current)\n",
    "            if next not in visited:\n",
    "                visited.add(next)\n",
    "                queue.append(next)\n",
    "                path[next] = current\n",
    "\n",
    "    return None\n",
    "\n",
    "def construct(goal, path):\n",
    "    result = []\n",
    "    current = goal\n",
    "    while current:\n",
    "        result.append(current)\n",
    "        current = path.get(current)\n",
    "    result.reverse()\n",
    "    return result\n",
    "\n",
    "A = int(input(\"Enter value for Jug A: \"))\n",
    "B = int(input(\"Enter value for Jug B: \"))\n",
    "c = int(input(\"Enter value for goal state Jug: \"))\n",
    "\n",
    "result = water_jug_bfs(A, B, c)\n",
    "if result:\n",
    "    print(\"The path is:\")\n",
    "    for i in range(len(result) - 1):\n",
    "        print(f\"{result[i]} -> {result[i+1]}\")\n",
    "else:\n",
    "    print(\"No Solutions\")"
   ]
  }
 ],
 "metadata": {
  "kernelspec": {
   "display_name": "Python 3",
   "language": "python",
   "name": "python3"
  },
  "language_info": {
   "codemirror_mode": {
    "name": "ipython",
    "version": 3
   },
   "file_extension": ".py",
   "mimetype": "text/x-python",
   "name": "python",
   "nbconvert_exporter": "python",
   "pygments_lexer": "ipython3",
   "version": "3.12.6"
  }
 },
 "nbformat": 4,
 "nbformat_minor": 5
}
