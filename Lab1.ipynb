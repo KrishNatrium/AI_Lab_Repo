{
 "cells": [
  {
   "cell_type": "code",
   "execution_count": 13,
   "id": "7ec9e9dc-205b-45d8-b8b0-9fbc97a7ba0f",
   "metadata": {},
   "outputs": [
    {
     "name": "stdin",
     "output_type": "stream",
     "text": [
      " qwertyui\n"
     ]
    },
    {
     "name": "stdout",
     "output_type": "stream",
     "text": [
      "iuytrewq\n"
     ]
    }
   ],
   "source": [
    "string = input()\n",
    "string = string[::-1]\n",
    "print(string)"
   ]
  },
  {
   "cell_type": "code",
   "execution_count": 14,
   "id": "4c0e706a-1184-4082-8dde-18db2a09f7fb",
   "metadata": {},
   "outputs": [
    {
     "name": "stdin",
     "output_type": "stream",
     "text": [
      " qwertg qwer qwe\n"
     ]
    },
    {
     "name": "stdout",
     "output_type": "stream",
     "text": [
      "qwe qwer qwertg\n"
     ]
    }
   ],
   "source": [
    "sentence = input()\n",
    "words = sentence.split()\n",
    "r_sentence = \" \".join(words[::-1])\n",
    "print(r_sentence)"
   ]
  },
  {
   "cell_type": "code",
   "execution_count": 1,
   "id": "08c3191b-bde3-4a98-ada8-9be8f7ad7f33",
   "metadata": {},
   "outputs": [
    {
     "name": "stdin",
     "output_type": "stream",
     "text": [
      " qwert qwerty\n"
     ]
    },
    {
     "name": "stdout",
     "output_type": "stream",
     "text": [
      "trewq ytrewq\n"
     ]
    }
   ],
   "source": [
    "sentence = input()\n",
    "result = \" \"\n",
    "for word in sentence.split() :\n",
    "    result += word[::-1] + \" \"\n",
    "print(result.strip())"
   ]
  },
  {
   "cell_type": "code",
   "execution_count": 2,
   "id": "2d761154-75f1-4fd8-9fcf-e2f32dee63b0",
   "metadata": {},
   "outputs": [
    {
     "name": "stdin",
     "output_type": "stream",
     "text": [
      " qwert\n",
      " asdfg\n"
     ]
    },
    {
     "name": "stdout",
     "output_type": "stream",
     "text": [
      "qawsedrftg\n"
     ]
    }
   ],
   "source": [
    "s1 = input()\n",
    "s2 = input()\n",
    "result = ''\n",
    "i=0\n",
    "while i<len(s1) and i<len(s1) :\n",
    "    result += s1[i] + s2[i]\n",
    "    i+=1\n",
    "result += s1[i:] + s2[i:]\n",
    "print(result)"
   ]
  },
  {
   "cell_type": "code",
   "execution_count": 3,
   "id": "acd0e09f-99d4-44d3-8e16-420eae40dda1",
   "metadata": {},
   "outputs": [
    {
     "name": "stdin",
     "output_type": "stream",
     "text": [
      " a2d2g2k2\n"
     ]
    },
    {
     "name": "stdout",
     "output_type": "stream",
     "text": [
      "aaddggkk\n"
     ]
    }
   ],
   "source": [
    "ip = input()\n",
    "result = ''\n",
    "for i in range(0,len(ip),2):\n",
    "    char = ip[i]\n",
    "    count = int (ip[i+1])\n",
    "    result += char * count\n",
    "print(result)"
   ]
  },
  {
   "cell_type": "code",
   "execution_count": 5,
   "id": "c67d4def-3ed1-438e-9faa-209d1e60d040",
   "metadata": {},
   "outputs": [
    {
     "name": "stdin",
     "output_type": "stream",
     "text": [
      " a3d2f1\n"
     ]
    },
    {
     "name": "stdout",
     "output_type": "stream",
     "text": [
      "addffg\n"
     ]
    }
   ],
   "source": [
    "inputstr = input()\n",
    "result = ''\n",
    "for i in range(0, len(inputstr), 2):\n",
    "    char = inputstr[i]\n",
    "    shift = int(inputstr[i + 1])\n",
    "    result += char\n",
    "    new_char = chr(ord(char) + shift)\n",
    "    result += new_char\n",
    "print(result)\n"
   ]
  },
  {
   "cell_type": "code",
   "execution_count": 6,
   "id": "30ec6fa0-fe90-44bf-a580-7d2af73ef858",
   "metadata": {},
   "outputs": [
    {
     "name": "stdin",
     "output_type": "stream",
     "text": [
      " qwertwqwertrewqwertewertrewertrewwert\n"
     ]
    },
    {
     "name": "stdout",
     "output_type": "stream",
     "text": [
      "eqrtw\n"
     ]
    }
   ],
   "source": [
    "ip = input()\n",
    "alpha = set(ip)\n",
    "print(''.join(sorted(alpha)))"
   ]
  },
  {
   "cell_type": "code",
   "execution_count": 7,
   "id": "dca2567d-d023-40f9-9ac6-f57c116db922",
   "metadata": {},
   "outputs": [
    {
     "name": "stdin",
     "output_type": "stream",
     "text": [
      " qwertyqwertqwerqweqwq\n"
     ]
    },
    {
     "name": "stdout",
     "output_type": "stream",
     "text": [
      "e : 4\n",
      "q : 6\n",
      "r : 3\n",
      "t : 2\n",
      "w : 5\n",
      "y : 1\n"
     ]
    }
   ],
   "source": [
    "ip = input()\n",
    "count = {}\n",
    "for char in ip :\n",
    "    count[char] = count.get(char,0) + 1\n",
    "for char,count in sorted(count.items()) :\n",
    "    print(f'{char} : {count}')"
   ]
  },
  {
   "cell_type": "code",
   "execution_count": 10,
   "id": "2cb169b2-5acb-4091-9f3e-6c0cfc2bc431",
   "metadata": {},
   "outputs": [
    {
     "name": "stdin",
     "output_type": "stream",
     "text": [
      " asdfgh2345678asdfgh876543458765\n"
     ]
    },
    {
     "name": "stdout",
     "output_type": "stream",
     "text": [
      "aaddffgghhss2334445555666777888\n"
     ]
    }
   ],
   "source": [
    "ip = input()\n",
    "alpha = []\n",
    "for char in ip :\n",
    "    if char.isalpha() :\n",
    "        alpha.append(char)\n",
    "alpha.sort()\n",
    "digit = []\n",
    "for char in ip :\n",
    "    if char.isdigit() :\n",
    "        digit.append(char)\n",
    "digit.sort()\n",
    "sortedstring = ''.join(alpha) + ''.join(digit)\n",
    "print(sortedstring)"
   ]
  }
 ],
 "metadata": {
  "kernelspec": {
   "display_name": "Python 3 (ipykernel)",
   "language": "python",
   "name": "python3"
  },
  "language_info": {
   "codemirror_mode": {
    "name": "ipython",
    "version": 3
   },
   "file_extension": ".py",
   "mimetype": "text/x-python",
   "name": "python",
   "nbconvert_exporter": "python",
   "pygments_lexer": "ipython3",
   "version": "3.12.6"
  }
 },
 "nbformat": 4,
 "nbformat_minor": 5
}
