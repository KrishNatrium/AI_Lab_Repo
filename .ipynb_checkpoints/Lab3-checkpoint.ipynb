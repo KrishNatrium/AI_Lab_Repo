{
 "cells": [
  {
   "cell_type": "code",
   "execution_count": null,
   "id": "701de15b-7cb6-446f-872b-a00c5df8afb7",
   "metadata": {},
   "outputs": [],
   "source": [
    "from collections import deque\n",
    "def water_jug_bfs(A,B,c) :\n",
    "    queue = deque([(0,0)])\n",
    "    visited = set((0,0))\n",
    "    path = {}\n",
    "\n",
    "    actions = [\n",
    "        lambda x,y : (A,y), # to fill A\n",
    "        lambda x,y : (x,B), # to fill B\n",
    "        lambda x,y : (0,y), # to empty A\n",
    "        lambda x,y : (x,0), # to empty B\n",
    "        lambda x,y : (x - min(x,B-y), y + min(x,B-y)), # pour from A to B, can only fill until full\n",
    "        lambda x,y : (x + min(y,A-x), y - min(y,A-x)), # pour from B to A, same reason\n",
    "        lambda x,y : (x // 2, y), # to half the jug\n",
    "        lambda x,y : (x, y // 2), # t0 half the jug\n",
    "    ]\n",
    "\n",
    "    while queue :\n",
    "        current = queue.popleft()\n",
    "\n",
    "        if current[0] == c or current[1] == c :\n",
    "            return construct(current,path)\n",
    "\n",
    "        for action in actions :\n",
    "            next = action(*current)\n",
    "\n",
    "            if next not in visited :\n",
    "                visited.add(next)\n",
    "                queue.append(next)\n",
    "                path[next] = current\n",
    "\n",
    "    return None"
   ]
  },
  {
   "cell_type": "code",
   "execution_count": null,
   "id": "6092a2a4-3530-44c8-9107-9a09ed14f106",
   "metadata": {},
   "outputs": [],
   "source": [
    "def construct(goal, path) :\n",
    "    result = []\n",
    "    current = goal\n",
    "    while current :\n",
    "        result.append(current)\n",
    "        current = path.get(current)\n",
    "\n",
    "    result.reverse()\n",
    "    return result"
   ]
  },
  {
   "cell_type": "code",
   "execution_count": null,
   "id": "026b6709-d947-40eb-82dd-cd7248b07307",
   "metadata": {},
   "outputs": [],
   "source": [
    "A = int(input(\"Enter value for Jug A: \"))\n",
    "B = int(input(\"Enter valur for Jug B: \"))\n",
    "c = int(input(\"Enter value for goal state Jug :\"))\n",
    "\n",
    "result = water_jug_bfs(A,B,c)\n",
    "if result :\n",
    "    print(\"The path is :\")\n",
    "    for i in range(len(result) - 1):\n",
    "        print(f\"{result[i]} -> {result[i+1]}\")\n",
    "else :\n",
    "    print(\"No Solutions\")"
   ]
  },
  {
   "cell_type": "code",
   "execution_count": null,
   "id": "f3a6ce6a-496b-41f8-9ad5-4dee420cfd58",
   "metadata": {},
   "outputs": [],
   "source": []
  }
 ],
 "metadata": {
  "kernelspec": {
   "display_name": "Python 3 (ipykernel)",
   "language": "python",
   "name": "python3"
  },
  "language_info": {
   "codemirror_mode": {
    "name": "ipython",
    "version": 3
   },
   "file_extension": ".py",
   "mimetype": "text/x-python",
   "name": "python",
   "nbconvert_exporter": "python",
   "pygments_lexer": "ipython3",
   "version": "3.12.6"
  }
 },
 "nbformat": 4,
 "nbformat_minor": 5
}
